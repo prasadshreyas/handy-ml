{
 "cells": [
  {
   "cell_type": "markdown",
   "metadata": {},
   "source": [
    "# Statistics"
   ]
  },
  {
   "cell_type": "markdown",
   "metadata": {},
   "source": [
    "### z-score\n",
    "\n",
    "The z-score is a measure of how many standard deviations away from the mean a data point is. It is calculated by subtracting the mean from the data point and dividing by the standard deviation.\n",
    "\n",
    "$$z = \\frac{x - \\mu}{\\sigma}$$\n",
    "\n",
    "### p-values\n",
    "\n",
    "The p-value is the probability of finding the observed, or more extreme, results when the null hypothesis is true. It is a measure of how surprising the results are under the null hypothesis. The smaller the p-value, the more surprising the results are under the null hypothesis.\n",
    "\n",
    "$$p = P(\\text{observed or more extreme results} | \\text{null hypothesis is true})$$\n",
    "\n",
    "The p-value is a number between 0 and 1. The lower the p-value, the more evidence you have that your results are not due to random chance.\n",
    "\n",
    "### Type I and Type II errors\n",
    "\n",
    "- **Type I error**: rejecting the null hypothesis when it is true. This is also known as a \"**false positive**\".\n",
    "- **Type II error**: failing to reject the null hypothesis when it is false. This is also known as a \"**false negative**\".\n"
   ]
  },
  {
   "cell_type": "markdown",
   "metadata": {},
   "source": [
    "## T-test\n",
    "\n",
    "The t-test is any statistical hypothesis test in which the test statistic follows a Student's t-distribution under the null hypothesis. "
   ]
  },
  {
   "cell_type": "markdown",
   "metadata": {},
   "source": [
    "# Chi-squared test\n",
    "\n",
    "-  [Chi-squared test](#Chi-squared-test)\n",
    "    -   [Chi-squared test for independence](#Chi-squared-test-for-independence)\n",
    "    -   [Chi-squared test for goodness of fit](#Chi-squared-test-for-goodness-of-fit)\n",
    "    -   [Chi-squared test for homogeneity](#Chi-squared-test-for-homogeneity)\n",
    "    -   [Chi-squared test for association](#Chi-squared-test-for-association)\n",
    "    -   [Chi-squared test for independence with missing values](#Chi-squared-test-for-independence-with-missing-values)\n",
    "    -   [Chi-squared test for goodness of fit with missing values](#Chi-squared-test-for-goodness-of-fit-with-missing-values)\n",
    "    -   [Chi-squared test for homogeneity with missing values](#Chi-squared-test-for-homogeneity-with-missing-values)\n",
    "    -   [Chi-squared test for association with missing values](#Chi-squared-test-for-association-with-missing-values)\n",
    "    -   [Chi-squared test for independence with missing values and weights](#Chi-squared-test-for-independence-with-missing-values-and-weights)\n",
    "    -   [Chi-squared test for goodness of fit with missing values and weights](#Chi-squared-test-for-goodness-of-fit-with-missing-values-and-weights)\n",
    "    -   [Chi-squared test for homogeneity with missing values and weights](#Chi-squared-test-for-homogeneity-with-missing-values-and-weights)\n",
    "    -   [Chi-squared test for association with missing values and weights](#Chi-squared-test-for-association-with-missing-values-and-weights)"
   ]
  },
  {
   "cell_type": "markdown",
   "metadata": {},
   "source": [
    "###  Statistical Independence\n",
    "\n",
    "Independence means that one variable doesn't “say anything” about another variable.\n",
    "\n",
    "The null hypothesis for a chi-square independence test is that *two categorical variables are independent in some population.*\n",
    "\n",
    "\n"
   ]
  },
  {
   "cell_type": "markdown",
   "metadata": {},
   "source": []
  }
 ],
 "metadata": {
  "language_info": {
   "name": "python"
  },
  "orig_nbformat": 4
 },
 "nbformat": 4,
 "nbformat_minor": 2
}
