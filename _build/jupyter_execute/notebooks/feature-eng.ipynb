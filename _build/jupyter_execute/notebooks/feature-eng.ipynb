{
 "cells": [
  {
   "cell_type": "markdown",
   "metadata": {},
   "source": [
    "# Feature Engineering\n"
   ]
  },
  {
   "cell_type": "markdown",
   "metadata": {},
   "source": [
    "## Scaling:\n",
    "\n",
    "Scale for all models which use distance based metrics (KNN, SVM, etc.)\n",
    "\n",
    "**Types of Scaling**:\n",
    "- Standardization: mean = 0, std = 1\n",
    "- Min-Max Scaling: min = 0, max = 1"
   ]
  },
  {
   "cell_type": "markdown",
   "metadata": {},
   "source": [
    "## Encoding\n",
    "\n",
    "**Types of Encoding**:\n",
    "- One-Hot Encoding\n",
    "  - $R \\rightarrow \\{1, 0\\}$\n",
    "  - Creates a new column for each category\n",
    "- Ordinal Encoding\n",
    "  - $ categories \\rightarrow \\{1, 2, 3, \\dots\\}$\n",
    "  - Does not create new columns (only one column)\n",
    "- Binary Encoding\n",
    "  - $ categories \\rightarrow \\{00, 01, 10, 11, \\dots\\}$\n",
    "- Binning\n",
    "  - $ set(n) \\rightarrow  len(\\{0, 1, 2, \\dots\\}) < len(set(n))$"
   ]
  },
  {
   "cell_type": "markdown",
   "metadata": {},
   "source": [
    "## Pre-processing\n",
    "\n",
    "### Missing Values\n",
    "  - Drop\n",
    "  - Impute\n",
    "    - Mean\n",
    "    - Median\n",
    "    - Mode\n",
    "    - KNN\n",
    "    - MICE"
   ]
  },
  {
   "cell_type": "markdown",
   "metadata": {},
   "source": [
    "To-do:\n",
    "\n",
    "- [ ] Mean vs Median\n",
    "  - Mean is sensitive to outliers, so use median for skewed data"
   ]
  },
  {
   "cell_type": "markdown",
   "metadata": {},
   "source": []
  }
 ],
 "metadata": {
  "kernelspec": {
   "display_name": "Python 3.9.10 ('base')",
   "language": "python",
   "name": "python3"
  },
  "language_info": {
   "codemirror_mode": {
    "name": "ipython",
    "version": 3
   },
   "file_extension": ".py",
   "mimetype": "text/x-python",
   "name": "python",
   "nbconvert_exporter": "python",
   "pygments_lexer": "ipython3",
   "version": "3.9.10"
  },
  "vscode": {
   "interpreter": {
    "hash": "2a62eb7397e95947974711ad7e3aa515539411275f2fd01cf7995f5d30a231c5"
   }
  }
 },
 "nbformat": 4,
 "nbformat_minor": 2
}