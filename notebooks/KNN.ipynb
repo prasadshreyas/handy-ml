{
 "cells": [
  {
   "cell_type": "markdown",
   "metadata": {},
   "source": [
    "# K-Nearest Neighbors (KNN)"
   ]
  },
  {
   "cell_type": "markdown",
   "metadata": {},
   "source": [
    "Objective funtion:\n",
    "\n",
    "Find  $f(x) = y_i$ such that,\n",
    "\n",
    "$$ i = argmin_{j} ||x - x_j|| $$ "
   ]
  },
  {
   "cell_type": "markdown",
   "metadata": {},
   "source": [
    "**Hyperparameters**\n",
    "\n",
    "- $k$: number of nearest neighbors\n",
    "- $w$: weight for the neighbors\n",
    "- Algorithm for finding the nearest neighbors\n",
    "\n",
    "**Time complexity**\n",
    "- Fitting: 0\n",
    "- Predicting: $O( len(features) \\times len(samples) )$"
   ]
  },
  {
   "cell_type": "markdown",
   "metadata": {},
   "source": [
    "Extras:\n",
    "- KDTree for finding nearest neighbors: \n",
    "  - The number of samples is fixed for the whole training process and the number of features is fixed for each sample.\n",
    "  - $O(log(len(samples)) )$\n"
   ]
  },
  {
   "cell_type": "markdown",
   "metadata": {},
   "source": [
    "References:\n",
    "- https://amueller.github.io/COMS4995-s20/slides/"
   ]
  }
 ],
 "metadata": {
  "kernelspec": {
   "display_name": "Python 3.9.10 ('base')",
   "language": "python",
   "name": "python3"
  },
  "language_info": {
   "codemirror_mode": {
    "name": "ipython",
    "version": 3
   },
   "file_extension": ".py",
   "mimetype": "text/x-python",
   "name": "python",
   "nbconvert_exporter": "python",
   "pygments_lexer": "ipython3",
   "version": "3.9.10"
  },
  "orig_nbformat": 4,
  "vscode": {
   "interpreter": {
    "hash": "2a62eb7397e95947974711ad7e3aa515539411275f2fd01cf7995f5d30a231c5"
   }
  }
 },
 "nbformat": 4,
 "nbformat_minor": 2
}
