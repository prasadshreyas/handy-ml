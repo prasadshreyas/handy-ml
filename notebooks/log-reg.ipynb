{
 "cells": [
  {
   "cell_type": "markdown",
   "metadata": {},
   "source": [
    "# Logistic Regression\n",
    "\n",
    "[PPT](https://notability.com/n/0XviO8aBpEaOckAZREJDrH)"
   ]
  },
  {
   "cell_type": "markdown",
   "metadata": {},
   "source": [
    "\n",
    "The Hypothesis function for logistic regression is:\n",
    "\n",
    "$$h_\\theta(x) = \\sigma(w^T x + b)$$\n",
    "\n",
    "where $\\sigma$ is the sigmoid function:\n",
    "\n",
    "$$\\sigma(z) = \\frac{1}{1 + e^{-z}}$$\n",
    "\n",
    "\n",
    "$$ z\\rightarrow \\infty \\rightarrow \\sigma(z) \\rightarrow 1$$\n",
    "$$ z\\rightarrow -\\infty \\rightarrow \\sigma(z) \\rightarrow 0$$\n",
    "\n",
    "**Interpretation of the hypothesis**:\n",
    "\n",
    "$$h_\\theta(x) = P(y = 1 | x; \\theta)$$\n",
    "\n",
    "is the probability that $y = 1$ given $x$ and parameters $\\theta$.\n",
    "\n",
    "\n",
    "which is, \n",
    "\n",
    "$$P(y = 1 | x; \\theta) + P(y = 0 | x; \\theta) = 1$$\n"
   ]
  },
  {
   "cell_type": "markdown",
   "metadata": {},
   "source": [
    "So, now we need to come up with a cost function which is convex and differentiable. So that we can use gradient descent to find the optimal parameters $\\theta$.\n",
    "\n",
    "\n",
    "$$ \n",
    "Cost(h(x), y) = \n",
    "\\begin{cases} \n",
    "    -log(h(x)), & \\text{if } y = 1 \\\\\n",
    "    -log(1 - h(x)),& \\text{if } y = 0\n",
    "\\end{cases} $$\n",
    "\n"
   ]
  },
  {
   "cell_type": "markdown",
   "metadata": {},
   "source": [
    "\n",
    "\n",
    "\n",
    "\n",
    "The reason why we use log-loss is because it is continous and differentiable. It is very easy to optimize.\n",
    "\n",
    "\n",
    "\n",
    "\n",
    "\n"
   ]
  },
  {
   "cell_type": "code",
   "execution_count": 1,
   "metadata": {},
   "outputs": [],
   "source": [
    "import random\n",
    "import numpy as np\n",
    "import seaborn as sns\n",
    "import matplotlib.pyplot as plt"
   ]
  },
  {
   "cell_type": "code",
   "execution_count": 8,
   "metadata": {},
   "outputs": [
    {
     "data": {
      "image/png": "[encoded data removed]",
      "text/plain": [
       "<Figure size 432x288 with 1 Axes>"
      ]
     },
     "metadata": {
      "needs_background": "light"
     },
     "output_type": "display_data"
    }
   ],
   "source": [
    "# Plot sigmoid function\n",
    "\n",
    "def sigmoid(x):\n",
    "    return 1 / (1 + np.exp(-x))\n",
    "\n",
    "def sigmoid_derivative(x):\n",
    "    return sigmoid(x) * (1 - sigmoid(x))\n",
    "\n",
    "\n",
    "x = np.linspace(-10, 10, 100)\n",
    "\n",
    "plt.axvline(x=0, color='k')\n",
    "plt.plot(x, sigmoid(x), 'b', label='Sigmoid')\n",
    "plt.plot(x, sigmoid_derivative(x), 'r', label='Sigmoid Derivative', linestyle='--')\n",
    "plt.legend(loc='best')\n",
    "plt.title('Sigmoid and Sigmoid Derivative')\n",
    "plt.show()"
   ]
  },
  {
   "cell_type": "code",
   "execution_count": 17,
   "metadata": {},
   "outputs": [
    {
     "data": {
      "text/plain": [
       "0.6224593312018546"
      ]
     },
     "execution_count": 17,
     "metadata": {},
     "output_type": "execute_result"
    }
   ],
   "source": [
    "# Sigmoid as an OR gate\n",
    "\n",
    "def sigmoid(x):\n",
    "    return 1 / (1 + np.exp(-x))\n",
    "\n",
    "# OR gate\n",
    "x = np.array([[0, 0], [0, 1], [1, 0], [1, 1]])\n",
    "y = np.array([[0], [1], [1], [1]])\n",
    "\n",
    "# Initialize weights\n",
    "w = np.random.rand(2, 1)\n",
    "b = np.random.rand(1)\n",
    "\n",
    "# Learning rate\n",
    "lr = 0.1\n",
    "\n"
   ]
  },
  {
   "cell_type": "code",
   "execution_count": 39,
   "metadata": {},
   "outputs": [
    {
     "name": "stdout",
     "output_type": "stream",
     "text": [
      "0.2689414213699951\n",
      "Negative\n"
     ]
    }
   ],
   "source": [
    "# OR gate\n",
    "\n",
    "\n",
    "# When x = [0,0], regardless of the weights, the bias should be negative, so that z < 0 and sigmoid(z) < 0.5 -> y = 0\n",
    "# b = -1\n",
    "# When x = [1, 0], w1 = 2 so that z = 2x1 + 0x2 + b = 2 + b -> z > 0 and sigmoid(z) > 0.5 -> y = 1\n",
    "# w1 = 2\n",
    "\n",
    "\n",
    "x= [0, 0]\n",
    "y= [0]\n",
    "w= [[1],\n",
    "    [1]]\n",
    "b= [-1]\n",
    "\n",
    "# Forward propagation\n",
    "z = np.dot(x, w) + b\n",
    "a = sigmoid(z)\n",
    "\n",
    "print(a[0])\n",
    "\n",
    "if a<0.5:\n",
    "    print(\"Negative\")\n",
    "else:\n",
    "    print(\"Positive\")\n"
   ]
  },
  {
   "cell_type": "code",
   "execution_count": 50,
   "metadata": {},
   "outputs": [
    {
     "data": {
      "text/plain": [
       "array([False,  True,  True,  True])"
      ]
     },
     "execution_count": 50,
     "metadata": {},
     "output_type": "execute_result"
    }
   ],
   "source": [
    "# OR Gate\n",
    "# So, the weights of the OR gate are w1 = 2 and w2 = 2 and the bias is b = -1. \n",
    "\n",
    "\n",
    "x= [[0, 0],\n",
    "    [0, 1],\n",
    "    [1, 0],\n",
    "    [1, 1]]\n",
    "\n",
    "w= [[2],\n",
    "    [2]]\n",
    "b= [-1]\n",
    "\n",
    "z = np.dot(x, w) + b\n",
    "a = sigmoid(z)\n",
    "\n",
    "a  = a > 0.5 # Convert to boolean\n",
    "a.flatten() # Convert to 1D array\n"
   ]
  },
  {
   "cell_type": "code",
   "execution_count": 51,
   "metadata": {},
   "outputs": [
    {
     "data": {
      "text/plain": [
       "array([ True, False, False, False])"
      ]
     },
     "execution_count": 51,
     "metadata": {},
     "output_type": "execute_result"
    }
   ],
   "source": [
    "# NOR Gate\n",
    "# So, the weights of the NOR gate are w1 = -2 and w2 = -2 and the bias is b = 1. (Note the sign change of the weights from the OR gate)\n",
    "\n",
    "x= [[0, 0],\n",
    "    [0, 1],\n",
    "    [1, 0],\n",
    "    [1, 1]]\n",
    "\n",
    "\n",
    "w= [[-2],\n",
    "    [-2]]\n",
    "b= [1]\n",
    "\n",
    "z = np.dot(x, w) + b\n",
    "a = sigmoid(z)\n",
    "\n",
    "a  = a > 0.5 # Convert to boolean\n",
    "a.flatten() # Convert to 1D array\n"
   ]
  },
  {
   "cell_type": "code",
   "execution_count": 59,
   "metadata": {},
   "outputs": [
    {
     "data": {
      "text/plain": [
       "array([False, False, False,  True])"
      ]
     },
     "execution_count": 59,
     "metadata": {},
     "output_type": "execute_result"
    }
   ],
   "source": [
    "# AND Gate\n",
    "# So, the weights of the AND gate are w1 = 2 and w2 = 2 and the bias is b = -2. \n",
    "\n",
    "# Change the signs of the weights and the bias from AND gate to get NAND gate\n",
    "\n",
    "x= [[0, 0],\n",
    "    [0, 1],\n",
    "    [1, 0],\n",
    "    [1, 1]]\n",
    "\n",
    "\n",
    "w= [[2],\n",
    "    [2]]\n",
    "b= [-3]\n",
    "\n",
    "\n",
    "z = np.dot(x, w) + b\n",
    "a = sigmoid(z)\n",
    "\n",
    "a  = a > 0.5 # Convert to boolean\n",
    "a.flatten() \n"
   ]
  },
  {
   "cell_type": "code",
   "execution_count": null,
   "metadata": {},
   "outputs": [],
   "source": []
  },
  {
   "cell_type": "code",
   "execution_count": null,
   "metadata": {},
   "outputs": [],
   "source": []
  }
 ],
 "metadata": {
  "kernelspec": {
   "display_name": "Python 3.9.10 ('base')",
   "language": "python",
   "name": "python3"
  },
  "language_info": {
   "codemirror_mode": {
    "name": "ipython",
    "version": 3
   },
   "file_extension": ".py",
   "mimetype": "text/x-python",
   "name": "python",
   "nbconvert_exporter": "python",
   "pygments_lexer": "ipython3",
   "version": "3.9.10"
  },
  "orig_nbformat": 4,
  "vscode": {
   "interpreter": {
    "hash": "2a62eb7397e95947974711ad7e3aa515539411275f2fd01cf7995f5d30a231c5"
   }
  }
 },
 "nbformat": 4,
 "nbformat_minor": 2
}
